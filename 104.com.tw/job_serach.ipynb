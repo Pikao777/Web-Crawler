{
 "cells": [
  {
   "cell_type": "code",
   "execution_count": null,
   "id": "507906fa",
   "metadata": {},
   "outputs": [],
   "source": [
    "# 104關鍵字職缺連結查詢\n",
    "\n",
    "# 使用套件\n",
    "import requests\n",
    "from bs4 import BeautifulSoup\n",
    "from fake_useragent import UserAgent\n",
    "\n",
    "ua = UserAgent(cache=True)\n",
    "headers = {\n",
    "    'user-agent': ua.random\n",
    "}\n",
    "url_list = []\n",
    "keyword = 'Java'\n",
    "for i in range(5):  \n",
    "    url = f'https://www.104.com.tw/jobs/search/?keyword={keyword}&order=1&jobsource=2018indexpoc&ro=0&page={i+1}'\n",
    "    request = requests.get(url, headers=headers)\n",
    "    soup = BeautifulSoup(request.text, 'lxml')\n",
    "    element = soup.select('div.b-block__left > h2 > a')\n",
    "    for j in element:\n",
    "        url_list.append(\"https:\" + j.get('href'))"
   ]
  }
 ],
 "metadata": {
  "kernelspec": {
   "display_name": "Python 3 (ipykernel)",
   "language": "python",
   "name": "python3"
  },
  "language_info": {
   "codemirror_mode": {
    "name": "ipython",
    "version": 3
   },
   "file_extension": ".py",
   "mimetype": "text/x-python",
   "name": "python",
   "nbconvert_exporter": "python",
   "pygments_lexer": "ipython3",
   "version": "3.9.13"
  }
 },
 "nbformat": 4,
 "nbformat_minor": 5
}
