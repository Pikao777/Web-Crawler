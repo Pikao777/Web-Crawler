{
 "cells": [
  {
   "cell_type": "code",
   "execution_count": 40,
   "id": "0a9148cf",
   "metadata": {},
   "outputs": [],
   "source": [
    "# 載入套件\n",
    "import requests\n",
    "from bs4 import BeautifulSoup\n",
    "import pymysql\n",
    "from pymysql.err import IntegrityError"
   ]
  },
  {
   "cell_type": "code",
   "execution_count": 55,
   "id": "bdff9a6e",
   "metadata": {},
   "outputs": [
    {
     "name": "stdout",
     "output_type": "stream",
     "text": [
      "已經抓取到最新資料\n",
      "關閉資料庫連接\n"
     ]
    }
   ],
   "source": [
    "if __name__ == '__main__':\n",
    "    \n",
    "    headers = {\n",
    "            \"User-Agent\": \"Mozilla/5.0 (Windows NT 10.0; Win64; x64) AppleWebKit/537.36 (KHTML, like Gecko) Chrome/101.0.4951.54 Safari/537.36\"\n",
    "    }\n",
    "    prefix = 'https://udn.com'\n",
    "    # 開關\n",
    "    lock = 0\n",
    "    # 每頁有6篇\n",
    "    page = 0\n",
    "    while page<=5:\n",
    "        if lock == 0:\n",
    "            url = 'https://udn.com/api/more?page=' + str(page) + '&channelId=2&type=cate_latest_news&cate_id=6645&totalRecNo=576'\n",
    "            r = requests.get(url, headers=headers)\n",
    "            info = r.json()\n",
    "            # 內文爬取\n",
    "            for i in range(6):\n",
    "                # VIP文章無法閱讀所以要寫try except避免錯誤\n",
    "                try:\n",
    "                    content_url = prefix + info['lists'][i]['titleLink']\n",
    "                    content_r = requests.get(content_url)\n",
    "                    soup = BeautifulSoup(content_r.text, features='lxml')\n",
    "                    context_author = soup.find('span',{'class':'article-content__author'})\n",
    "                    content = soup.find('section',{'class':'article-content__editor'})\n",
    "\n",
    "                    website = 'udn'\n",
    "                    link = content_url\n",
    "                    title = info['lists'][i]['title']\n",
    "                    time = info['lists'][i]['time']['date']\n",
    "                    author = context_author.text\n",
    "                    context = content.text\n",
    "\n",
    "                    # 新增進資料庫\n",
    "                    connection = pymysql.connect(host='localhost', port=3306, user='root', password='Password', database='stock_news')\n",
    "                    cursor = connection.cursor()\n",
    "                    sql = 'INSERT INTO ss_news (news, link, title, times, reporter, article) VALUES (\"%s\", \"%s\", \"%s\", \"%s\", \"%s\", \"%s\");'\\\n",
    "                                        % (website, link, title, time, author, context)\n",
    "                    cursor.execute(sql)\n",
    "                    connection.commit()\n",
    "                    connection.close()\n",
    "                except IntegrityError as e:\n",
    "                    # 如果出現IntegrityError，也就是PK重複\n",
    "                    print('已經抓取到最新資料')\n",
    "                    connection.close()\n",
    "                    print('關閉資料庫連接')\n",
    "                    lock = 1\n",
    "                    break\n",
    "                except Exception as e:\n",
    "                    pass\n",
    "            page += 1\n",
    "        else:\n",
    "            break"
   ]
  }
 ],
 "metadata": {
  "kernelspec": {
   "display_name": "Python 3 (ipykernel)",
   "language": "python",
   "name": "python3"
  },
  "language_info": {
   "codemirror_mode": {
    "name": "ipython",
    "version": 3
   },
   "file_extension": ".py",
   "mimetype": "text/x-python",
   "name": "python",
   "nbconvert_exporter": "python",
   "pygments_lexer": "ipython3",
   "version": "3.9.13"
  }
 },
 "nbformat": 4,
 "nbformat_minor": 5
}
