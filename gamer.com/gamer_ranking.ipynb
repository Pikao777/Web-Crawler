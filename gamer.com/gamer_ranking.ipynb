{
 "cells": [
  {
   "cell_type": "code",
   "execution_count": null,
   "id": "b911de76",
   "metadata": {},
   "outputs": [],
   "source": [
    "# 巴哈姆特遊戲排行榜 - 以mobile、PC、TV遊戲排行榜為例\n",
    "\n",
    "# 使用套件\n",
    "import requests\n",
    "from bs4 import BeautifulSoup\n",
    "import pandas as pd\n",
    "import datetime\n",
    "\n",
    "\n",
    "headers = {\n",
    "        \"User-Agent\": \"Mozilla/5.0 (Windows NT 10.0; Win64; x64) AppleWebKit/537.36 (KHTML, like Gecko) Chrome/101.0.4951.54 Safari/537.36\"\n",
    "}\n",
    "\n",
    "mobile = \"https://forum.gamer.com.tw/ajax/rank.php?c=94&page=\"\n",
    "pc = \"https://forum.gamer.com.tw/ajax/rank.php?c=500&page=\"\n",
    "tv = \"https://forum.gamer.com.tw/ajax/rank.php?c=52&page=\"\n",
    "\n",
    "r_list = [mobile, pc, tv] \n",
    "r_name = ['mobile', 'pc', 'tv'] \n",
    "\n",
    "def get_ranking_info_list(url):\n",
    "    # 取得排名列表\n",
    "    rankings = []    \n",
    "    for page in range(1, 5):\n",
    "        website = url + str(page)\n",
    "        r = requests.get(website, headers=headers)\n",
    "        rankings_duct = r.json()    \n",
    "        for value in rankings_duct:\n",
    "            rankings.append(\n",
    "                {\n",
    "                    '板塊名稱': value.get('title'),\n",
    "                    '板塊id': value.get('bsn'),\n",
    "                    '熱度': value.get('hot'),\n",
    "                    '文章數量': value.get('article'),\n",
    "                    '排名': value.get('ranking'),\n",
    "                    '日期': datetime.date.today(),\n",
    "                 }\n",
    "            )\n",
    "    return rankings\n",
    "\n",
    "num = 0\n",
    "for item in r_list:\n",
    "    df = pd.DataFrame(get_ranking_info_list(item))\n",
    "    df['類別'] = r_name[num]\n",
    "    df.to_csv(r_name[num] ,index=False, mode='a')\n",
    "    num += 1"
   ]
  }
 ],
 "metadata": {
  "kernelspec": {
   "display_name": "Python 3 (ipykernel)",
   "language": "python",
   "name": "python3"
  },
  "language_info": {
   "codemirror_mode": {
    "name": "ipython",
    "version": 3
   },
   "file_extension": ".py",
   "mimetype": "text/x-python",
   "name": "python",
   "nbconvert_exporter": "python",
   "pygments_lexer": "ipython3",
   "version": "3.9.13"
  }
 },
 "nbformat": 4,
 "nbformat_minor": 5
}
