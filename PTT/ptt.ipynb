{
 "cells": [
  {
   "cell_type": "code",
   "execution_count": null,
   "id": "e25a80b5",
   "metadata": {},
   "outputs": [],
   "source": [
    "# PTT論壇文章標題爬取-以八卦版為例\n",
    "\n",
    "# 使用套件\n",
    "import requests\n",
    "from bs4 import BeautifulSoup\n",
    "import pandas as pd\n",
    "import datetime\n",
    "import re\n",
    "\n",
    "\n",
    "def get_reply_info_list(url):\n",
    "    # 爬取列表確認是否正確回傳http://localhost:8889/notebooks/Desktop/Github/Web-Crawler/ptt.ipynb#\n",
    "    r = requests.get(url, headers=headers, cookies=cookies)\n",
    "    if r.status_code != requests.codes.ok:\n",
    "        print(\"載入失敗\")\n",
    "        return {}\n",
    "\n",
    "def get_article_title(url):\n",
    "    # 獲取文章標題\n",
    "    elements = requests.get(url, headers=headers, cookies=cookies)\n",
    "    soup = BeautifulSoup(elements.text, \"html.parser\")\n",
    "    element = soup.select('div.title a')\n",
    "    for title in element:\n",
    "        print(title.text)\n",
    "    \n",
    "def get_final_page():\n",
    "    # 獲取最後一頁頁數\n",
    "    elements = requests.get(url, headers=headers, cookies=cookies)\n",
    "    soup = BeautifulSoup(elements.text, \"html.parser\")\n",
    "    href_tag = soup.select(\"a.wide\") #搜尋最後頁數用  \n",
    "    page_href = href_tag[-3].get('href') #找出tag標籤\n",
    "    page = re.sub(\"/bbs/Gossiping/index\",\"\",page_href) #去除頁數前後文字\n",
    "    final_page = re.sub(\".html\",\"\",page) #同上\n",
    "    return int(final_page)+1\n",
    "\n",
    "# main\n",
    "if __name__ == '__main__':\n",
    "    headers = {\n",
    "        \"User-Agent\": \"Mozilla/5.0 (Windows NT 10.0; Win64; x64) AppleWebKit/537.36 (KHTML, like Gecko) Chrome/101.0.4951.54 Safari/537.36\"\n",
    "    }\n",
    "    cookies = { \"cookie\": \"ga=GA1.2.821944995.1661921213; _gid=GA1.2.1593752975.1662445811; over18=1; _gat=1\" }\n",
    "    url = \"https://www.ptt.cc/bbs/Gossiping/index.html\"\n",
    "    if get_reply_info_list(url) == False:\n",
    "        print('網頁載入失敗')\n",
    "    else:\n",
    "        page = get_final_page()\n",
    "        num = 10 # 設定要爬取的頁面數\n",
    "        while num > 0:\n",
    "            get_article_title('https://www.ptt.cc/bbs/Gossiping/index'+str(page)+\".html\")\n",
    "            page = page - 1\n",
    "            num = num -1"
   ]
  }
 ],
 "metadata": {
  "kernelspec": {
   "display_name": "Python 3 (ipykernel)",
   "language": "python",
   "name": "python3"
  },
  "language_info": {
   "codemirror_mode": {
    "name": "ipython",
    "version": 3
   },
   "file_extension": ".py",
   "mimetype": "text/x-python",
   "name": "python",
   "nbconvert_exporter": "python",
   "pygments_lexer": "ipython3",
   "version": "3.9.13"
  }
 },
 "nbformat": 4,
 "nbformat_minor": 5
}
